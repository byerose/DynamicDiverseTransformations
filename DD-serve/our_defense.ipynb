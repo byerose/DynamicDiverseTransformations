{
 "cells": [
  {
   "cell_type": "code",
   "execution_count": null,
   "metadata": {},
   "outputs": [],
   "source": [
    "import sys\n",
    "sys.path.append('/home/ait/ws/DD-serve')\n",
    "\n",
    "import os\n",
    "os.environ['CUDA_VISIBLE_DEVICES']='0'\n"
   ]
  },
  {
   "cell_type": "code",
   "execution_count": null,
   "metadata": {},
   "outputs": [],
   "source": [
    "import torch\n",
    "import torch.nn as nn\n",
    "import torch.optim as optim\n",
    "import torch.utils.data as data\n",
    "import torchvision.transforms as transforms\n",
    "from PIL import Image\n",
    "import random\n",
    " \n",
    "from art.estimators.classification import PyTorchClassifier\n",
    "from defense_cifar10.ensemble_pytorch import EnsembleClassifier\n",
    "from defense_cifar10.dynamic_preprocessor import *\n",
    "\n",
    "from utils.trans_pool_cifar10 import *\n",
    "import gradio as gr"
   ]
  },
  {
   "cell_type": "code",
   "execution_count": null,
   "metadata": {},
   "outputs": [],
   "source": [
    "trans = Transforms()\n",
    "\n",
    "def test(inp):\n",
    "    k=5\n",
    "    g=6\n",
    "    model_dir=\"./cifar10_wideresnet_re.pth\"\n",
    "    image_size = [32,32]\n",
    "    input_shape = [3,32,32]\n",
    "    nb_classes = 10\n",
    "\n",
    "    tf = transforms.Compose([\n",
    "            transforms.Resize(image_size),\n",
    "            transforms.ToTensor()\n",
    "        ])\n",
    "\n",
    "    model=torch.load(model_dir)\n",
    "\n",
    "    criterion = nn.CrossEntropyLoss()\n",
    "    optimizer = optim.SGD(model.parameters(),.1,momentum=0.9,weight_decay=1e-4)\n",
    "    trans_pool = [Adjusment,Affine,Compression,Denoise,Filters,Geometric,Morphology,Rotate,Shift]\n",
    "\n",
    "    classifiers = []\n",
    "    trans_func = random.sample(trans_pool,g)\n",
    "    for func in trans_func:\n",
    "        for _ in range(k):\n",
    "            classifiers.append(PyTorchClassifier(\n",
    "                model=model,\n",
    "                loss=criterion,\n",
    "                clip_values=(0,1),\n",
    "                optimizer=optimizer,\n",
    "                input_shape=input_shape,\n",
    "                nb_classes=nb_classes,\n",
    "                preprocessing_defences=func(),\n",
    "                preprocessing=((0.4914, 0.4822, 0.4465), (0.2023, 0.1994, 0.2010))\n",
    "            ))\n",
    "    ensemble_classifier = EnsembleClassifier(\n",
    "        classifiers=classifiers,\n",
    "        classifier_weights=None,\n",
    "        clip_values=(0,1),\n",
    "        channels_first=True\n",
    "    )\n",
    "\n",
    "    labels = [\"airplane\",\"automobile\",\"bird\",\"cat\",\"deer\",\"dog\",\"frog\",\"horse\",\"ship\",\"truck\"]\n",
    "    inp = tf(inp)\n",
    "    input = inp.numpy()[np.newaxis,:,:,:]\n",
    "    predictions = ensemble_classifier.predict(input, mode='avg')[0]\n",
    "    # print(predictions)\n",
    "    output_sum = predictions.sum()\n",
    "    predictions = (predictions/output_sum).tolist()\n",
    "    # print(predictions)\n",
    "    confidences = {labels[i]:list(predictions)[i] for i in range(10)}\n",
    "    return dict(sorted(confidences.items(),key=lambda k:k[1]))\n",
    "\n"
   ]
  },
  {
   "cell_type": "code",
   "execution_count": null,
   "metadata": {},
   "outputs": [],
   "source": [
    "def main():\n",
    "    gr.Interface(\n",
    "        fn=test,\n",
    "        inputs=gr.inputs.Image(type=\"pil\"),\n",
    "        outputs=gr.outputs.Label(num_top_classes=3),\n",
    "        examples=[\"dog.png\",\"frog.png\"]\n",
    "    ).launch()\n",
    "if __name__ == '__main__':\n",
    "    main()"
   ]
  }
 ],
 "metadata": {
  "interpreter": {
   "hash": "87e49be983a200875e924ee3ed30074235cd99f28cd2abc572bd17ee0a8614a4"
  },
  "kernelspec": {
   "display_name": "Python 3.8.12 ('nn')",
   "language": "python",
   "name": "python3"
  },
  "language_info": {
   "codemirror_mode": {
    "name": "ipython",
    "version": 3
   },
   "file_extension": ".py",
   "mimetype": "text/x-python",
   "name": "python",
   "nbconvert_exporter": "python",
   "pygments_lexer": "ipython3",
   "version": "3.8.12"
  },
  "orig_nbformat": 4
 },
 "nbformat": 4,
 "nbformat_minor": 2
}
